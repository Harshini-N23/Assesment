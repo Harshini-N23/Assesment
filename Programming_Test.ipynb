{
  "nbformat": 4,
  "nbformat_minor": 0,
  "metadata": {
    "colab": {
      "provenance": []
    },
    "kernelspec": {
      "name": "python3",
      "display_name": "Python 3"
    },
    "language_info": {
      "name": "python"
    }
  },
  "cells": [
    {
      "cell_type": "markdown",
      "source": [
        "# Programming Test: Learning Activations in Neural Networks\n",
        "## Dataset: Bank Note\n",
        "## Source: Kaggle"
      ],
      "metadata": {
        "id": "PxwE40xRJMiL"
      }
    },
    {
      "cell_type": "markdown",
      "source": [
        "## Loading the necessary modules and packages"
      ],
      "metadata": {
        "id": "fLcsjY9EJVds"
      }
    },
    {
      "cell_type": "code",
      "source": [
        "from google.colab import drive\n",
        "drive.mount('/content/drive')"
      ],
      "metadata": {
        "colab": {
          "base_uri": "https://localhost:8080/"
        },
        "id": "HUk838OgB-CJ",
        "outputId": "a9517c4b-5a48-468b-c968-d4a0984a234d"
      },
      "execution_count": 1,
      "outputs": [
        {
          "output_type": "stream",
          "name": "stdout",
          "text": [
            "Drive already mounted at /content/drive; to attempt to forcibly remount, call drive.mount(\"/content/drive\", force_remount=True).\n"
          ]
        }
      ]
    },
    {
      "cell_type": "code",
      "execution_count": 2,
      "metadata": {
        "id": "Fq3XWOZTBNBY"
      },
      "outputs": [],
      "source": [
        "import numpy as np\n",
        "import pandas as pd\n",
        "import os\n",
        "import matplotlib.pyplot as plt\n",
        "from random import random\n",
        "from zipfile import ZipFile\n",
        "from sklearn.model_selection import train_test_split"
      ]
    },
    {
      "cell_type": "markdown",
      "source": [
        "## Downloading the Bank Note data hosted on Kaggle"
      ],
      "metadata": {
        "id": "cqYXiVfkJa6w"
      }
    },
    {
      "cell_type": "code",
      "source": [
        "os.environ['KAGGLE_CONFIG_DIR'] = \"/content/drive/MyDrive/Kaggle\"\n",
        "!kaggle datasets download -d ritesaluja/bank-note-authentication-uci-data"
      ],
      "metadata": {
        "id": "mI_MhuzCCmlr",
        "colab": {
          "base_uri": "https://localhost:8080/"
        },
        "outputId": "b2b82780-308b-43cf-fef0-6ca66f9d2cd6"
      },
      "execution_count": 3,
      "outputs": [
        {
          "output_type": "stream",
          "name": "stdout",
          "text": [
            "bank-note-authentication-uci-data.zip: Skipping, found more recently modified local copy (use --force to force download)\n"
          ]
        }
      ]
    },
    {
      "cell_type": "code",
      "source": [
        "file_name = \"/content/bank-note-authentication-uci-data.zip\"\n",
        "with ZipFile(file_name, 'r') as zip:\n",
        "    # printing all the contents of the zip file\n",
        "    zip.printdir()\n",
        "  \n",
        "    # extracting all the files\n",
        "    print('Extracting all the files now...')\n",
        "    zip.extractall()\n",
        "    print('Done!')"
      ],
      "metadata": {
        "colab": {
          "base_uri": "https://localhost:8080/"
        },
        "id": "Q8fWFrBqDajW",
        "outputId": "b4ed45d6-3408-4258-def2-fe473d3fc113"
      },
      "execution_count": 4,
      "outputs": [
        {
          "output_type": "stream",
          "name": "stdout",
          "text": [
            "File Name                                             Modified             Size\n",
            "BankNote_Authentication.csv                    2019-10-13 19:14:32        46442\n",
            "Extracting all the files now...\n",
            "Done!\n"
          ]
        }
      ]
    },
    {
      "cell_type": "markdown",
      "source": [
        "## Loading the data"
      ],
      "metadata": {
        "id": "dg7G5C1CJqNu"
      }
    },
    {
      "cell_type": "code",
      "source": [
        "data =pd.read_csv(\"/content/BankNote_Authentication.csv\")\n",
        "data.head()"
      ],
      "metadata": {
        "colab": {
          "base_uri": "https://localhost:8080/",
          "height": 206
        },
        "id": "xiJ3IRu-DdX7",
        "outputId": "a2137c9a-4b88-48f6-be02-18e1cf17fd1c"
      },
      "execution_count": 5,
      "outputs": [
        {
          "output_type": "execute_result",
          "data": {
            "text/plain": [
              "   variance  skewness  curtosis  entropy  class\n",
              "0   3.62160    8.6661   -2.8073 -0.44699      0\n",
              "1   4.54590    8.1674   -2.4586 -1.46210      0\n",
              "2   3.86600   -2.6383    1.9242  0.10645      0\n",
              "3   3.45660    9.5228   -4.0112 -3.59440      0\n",
              "4   0.32924   -4.4552    4.5718 -0.98880      0"
            ],
            "text/html": [
              "\n",
              "  <div id=\"df-9fce089d-d6eb-4754-a77b-6bb2b11a0f2d\">\n",
              "    <div class=\"colab-df-container\">\n",
              "      <div>\n",
              "<style scoped>\n",
              "    .dataframe tbody tr th:only-of-type {\n",
              "        vertical-align: middle;\n",
              "    }\n",
              "\n",
              "    .dataframe tbody tr th {\n",
              "        vertical-align: top;\n",
              "    }\n",
              "\n",
              "    .dataframe thead th {\n",
              "        text-align: right;\n",
              "    }\n",
              "</style>\n",
              "<table border=\"1\" class=\"dataframe\">\n",
              "  <thead>\n",
              "    <tr style=\"text-align: right;\">\n",
              "      <th></th>\n",
              "      <th>variance</th>\n",
              "      <th>skewness</th>\n",
              "      <th>curtosis</th>\n",
              "      <th>entropy</th>\n",
              "      <th>class</th>\n",
              "    </tr>\n",
              "  </thead>\n",
              "  <tbody>\n",
              "    <tr>\n",
              "      <th>0</th>\n",
              "      <td>3.62160</td>\n",
              "      <td>8.6661</td>\n",
              "      <td>-2.8073</td>\n",
              "      <td>-0.44699</td>\n",
              "      <td>0</td>\n",
              "    </tr>\n",
              "    <tr>\n",
              "      <th>1</th>\n",
              "      <td>4.54590</td>\n",
              "      <td>8.1674</td>\n",
              "      <td>-2.4586</td>\n",
              "      <td>-1.46210</td>\n",
              "      <td>0</td>\n",
              "    </tr>\n",
              "    <tr>\n",
              "      <th>2</th>\n",
              "      <td>3.86600</td>\n",
              "      <td>-2.6383</td>\n",
              "      <td>1.9242</td>\n",
              "      <td>0.10645</td>\n",
              "      <td>0</td>\n",
              "    </tr>\n",
              "    <tr>\n",
              "      <th>3</th>\n",
              "      <td>3.45660</td>\n",
              "      <td>9.5228</td>\n",
              "      <td>-4.0112</td>\n",
              "      <td>-3.59440</td>\n",
              "      <td>0</td>\n",
              "    </tr>\n",
              "    <tr>\n",
              "      <th>4</th>\n",
              "      <td>0.32924</td>\n",
              "      <td>-4.4552</td>\n",
              "      <td>4.5718</td>\n",
              "      <td>-0.98880</td>\n",
              "      <td>0</td>\n",
              "    </tr>\n",
              "  </tbody>\n",
              "</table>\n",
              "</div>\n",
              "      <button class=\"colab-df-convert\" onclick=\"convertToInteractive('df-9fce089d-d6eb-4754-a77b-6bb2b11a0f2d')\"\n",
              "              title=\"Convert this dataframe to an interactive table.\"\n",
              "              style=\"display:none;\">\n",
              "        \n",
              "  <svg xmlns=\"http://www.w3.org/2000/svg\" height=\"24px\"viewBox=\"0 0 24 24\"\n",
              "       width=\"24px\">\n",
              "    <path d=\"M0 0h24v24H0V0z\" fill=\"none\"/>\n",
              "    <path d=\"M18.56 5.44l.94 2.06.94-2.06 2.06-.94-2.06-.94-.94-2.06-.94 2.06-2.06.94zm-11 1L8.5 8.5l.94-2.06 2.06-.94-2.06-.94L8.5 2.5l-.94 2.06-2.06.94zm10 10l.94 2.06.94-2.06 2.06-.94-2.06-.94-.94-2.06-.94 2.06-2.06.94z\"/><path d=\"M17.41 7.96l-1.37-1.37c-.4-.4-.92-.59-1.43-.59-.52 0-1.04.2-1.43.59L10.3 9.45l-7.72 7.72c-.78.78-.78 2.05 0 2.83L4 21.41c.39.39.9.59 1.41.59.51 0 1.02-.2 1.41-.59l7.78-7.78 2.81-2.81c.8-.78.8-2.07 0-2.86zM5.41 20L4 18.59l7.72-7.72 1.47 1.35L5.41 20z\"/>\n",
              "  </svg>\n",
              "      </button>\n",
              "      \n",
              "  <style>\n",
              "    .colab-df-container {\n",
              "      display:flex;\n",
              "      flex-wrap:wrap;\n",
              "      gap: 12px;\n",
              "    }\n",
              "\n",
              "    .colab-df-convert {\n",
              "      background-color: #E8F0FE;\n",
              "      border: none;\n",
              "      border-radius: 50%;\n",
              "      cursor: pointer;\n",
              "      display: none;\n",
              "      fill: #1967D2;\n",
              "      height: 32px;\n",
              "      padding: 0 0 0 0;\n",
              "      width: 32px;\n",
              "    }\n",
              "\n",
              "    .colab-df-convert:hover {\n",
              "      background-color: #E2EBFA;\n",
              "      box-shadow: 0px 1px 2px rgba(60, 64, 67, 0.3), 0px 1px 3px 1px rgba(60, 64, 67, 0.15);\n",
              "      fill: #174EA6;\n",
              "    }\n",
              "\n",
              "    [theme=dark] .colab-df-convert {\n",
              "      background-color: #3B4455;\n",
              "      fill: #D2E3FC;\n",
              "    }\n",
              "\n",
              "    [theme=dark] .colab-df-convert:hover {\n",
              "      background-color: #434B5C;\n",
              "      box-shadow: 0px 1px 3px 1px rgba(0, 0, 0, 0.15);\n",
              "      filter: drop-shadow(0px 1px 2px rgba(0, 0, 0, 0.3));\n",
              "      fill: #FFFFFF;\n",
              "    }\n",
              "  </style>\n",
              "\n",
              "      <script>\n",
              "        const buttonEl =\n",
              "          document.querySelector('#df-9fce089d-d6eb-4754-a77b-6bb2b11a0f2d button.colab-df-convert');\n",
              "        buttonEl.style.display =\n",
              "          google.colab.kernel.accessAllowed ? 'block' : 'none';\n",
              "\n",
              "        async function convertToInteractive(key) {\n",
              "          const element = document.querySelector('#df-9fce089d-d6eb-4754-a77b-6bb2b11a0f2d');\n",
              "          const dataTable =\n",
              "            await google.colab.kernel.invokeFunction('convertToInteractive',\n",
              "                                                     [key], {});\n",
              "          if (!dataTable) return;\n",
              "\n",
              "          const docLinkHtml = 'Like what you see? Visit the ' +\n",
              "            '<a target=\"_blank\" href=https://colab.research.google.com/notebooks/data_table.ipynb>data table notebook</a>'\n",
              "            + ' to learn more about interactive tables.';\n",
              "          element.innerHTML = '';\n",
              "          dataTable['output_type'] = 'display_data';\n",
              "          await google.colab.output.renderOutput(dataTable, element);\n",
              "          const docLink = document.createElement('div');\n",
              "          docLink.innerHTML = docLinkHtml;\n",
              "          element.appendChild(docLink);\n",
              "        }\n",
              "      </script>\n",
              "    </div>\n",
              "  </div>\n",
              "  "
            ]
          },
          "metadata": {},
          "execution_count": 5
        }
      ]
    },
    {
      "cell_type": "markdown",
      "source": [
        "## Understanding the data"
      ],
      "metadata": {
        "id": "lsMgrItkJspq"
      }
    },
    {
      "cell_type": "code",
      "source": [
        "data.isnull().sum()"
      ],
      "metadata": {
        "colab": {
          "base_uri": "https://localhost:8080/"
        },
        "id": "YKzOqW80Dlz_",
        "outputId": "8784efd7-fe27-441a-c1f2-2e3a38a2cb86"
      },
      "execution_count": 6,
      "outputs": [
        {
          "output_type": "execute_result",
          "data": {
            "text/plain": [
              "variance    0\n",
              "skewness    0\n",
              "curtosis    0\n",
              "entropy     0\n",
              "class       0\n",
              "dtype: int64"
            ]
          },
          "metadata": {},
          "execution_count": 6
        }
      ]
    },
    {
      "cell_type": "code",
      "source": [
        "data.info()"
      ],
      "metadata": {
        "colab": {
          "base_uri": "https://localhost:8080/"
        },
        "id": "5tj2fSeKEVpa",
        "outputId": "e2d4059e-63d3-4cb1-d43e-ddb77a6a8849"
      },
      "execution_count": 7,
      "outputs": [
        {
          "output_type": "stream",
          "name": "stdout",
          "text": [
            "<class 'pandas.core.frame.DataFrame'>\n",
            "RangeIndex: 1372 entries, 0 to 1371\n",
            "Data columns (total 5 columns):\n",
            " #   Column    Non-Null Count  Dtype  \n",
            "---  ------    --------------  -----  \n",
            " 0   variance  1372 non-null   float64\n",
            " 1   skewness  1372 non-null   float64\n",
            " 2   curtosis  1372 non-null   float64\n",
            " 3   entropy   1372 non-null   float64\n",
            " 4   class     1372 non-null   int64  \n",
            "dtypes: float64(4), int64(1)\n",
            "memory usage: 53.7 KB\n"
          ]
        }
      ]
    },
    {
      "cell_type": "code",
      "source": [
        "data[[\"variance\",\"skewness\",\"curtosis\",\"entropy\"]].plot(kind=\"box\")"
      ],
      "metadata": {
        "colab": {
          "base_uri": "https://localhost:8080/",
          "height": 447
        },
        "id": "b7G372_qDw6s",
        "outputId": "6ee39249-a7cc-42c8-e116-6f79a8768ae7"
      },
      "execution_count": 8,
      "outputs": [
        {
          "output_type": "execute_result",
          "data": {
            "text/plain": [
              "<Axes: >"
            ]
          },
          "metadata": {},
          "execution_count": 8
        },
        {
          "output_type": "display_data",
          "data": {
            "text/plain": [
              "<Figure size 640x480 with 1 Axes>"
            ],
            "image/png": "[encoded data removed]"
          },
          "metadata": {}
        }
      ]
    },
    {
      "cell_type": "markdown",
      "source": [
        "## Splitting the data into train and test and converting them to a numpy array"
      ],
      "metadata": {
        "id": "kNoXVsvtJ00n"
      }
    },
    {
      "cell_type": "code",
      "source": [
        "training_data = data.sample(frac=0.8, random_state=25)\n",
        "testing_data = data.drop(training_data.index)"
      ],
      "metadata": {
        "id": "X4t0UB2pEi8_"
      },
      "execution_count": 9,
      "outputs": []
    },
    {
      "cell_type": "code",
      "source": [
        "training_data = np.array(training_data, \"int32\")\n",
        "testing_data  =np.array(testing_data, \"int32\")"
      ],
      "metadata": {
        "id": "jwu6f7jc_WZj"
      },
      "execution_count": 10,
      "outputs": []
    },
    {
      "cell_type": "markdown",
      "source": [
        "## Training the Model"
      ],
      "metadata": {
        "id": "z5haJLlFJ7cu"
      }
    },
    {
      "cell_type": "code",
      "source": [
        "\"\"\"\n",
        "The function 'model' defines the numbers of neurons in each layer of the neural network consisting of a \n",
        " input layer, one hidden layer and an output layer. It takes in three parameters: number of input neurons,\n",
        " number of hidden neurons and number of output neurons. The weights  of neurons in the hidden layer is \n",
        " equal to the number of input neurons and an addition of 1 for the bias. The weights of output neurons is equal to the \n",
        " number of hidden neurons and addition of 1 for the output bias. The number of input neurons will be equal to the \n",
        " number of features in our dataset.\n",
        "\"\"\"\n",
        "def model(n_input_neurons, n_hidden_neurons, n_output_neurons):\n",
        "  network =[]\n",
        "  hidden_layer = [{\"weights\": [random() for i in range(n_input_neurons+1)]} for i in range(n_hidden_neurons)]\n",
        "  network.append(hidden_layer)\n",
        "  output_layer = [{\"weights\": [random() for i in range(n_hidden_neurons + 1)]} for i in range(n_output_neurons)]\n",
        "  network.append(output_layer)\n",
        "  return network\n",
        "\n",
        "\"\"\"\n",
        "Activating the Neuron\n",
        "In the below function we are calculating the net input that is Zi = xiwi + b :\n",
        "where; xi: input, wi: weights and b: bias.\n",
        "\"\"\"\n",
        "def activate(weights, inputs):\n",
        "  activation =weights[-1] #bias weight\n",
        "  for i in range(len(weights)-1):\n",
        "    activation = activation + weights[i]*inputs[i]\n",
        "  return activation\n",
        "\n",
        "\"\"\"\n",
        "Applying an activation function to the net output calculated in the above function.\n",
        "We're using the softmax activation function.\n",
        "\"\"\"\n",
        "def activation_function(activation):\n",
        "  e = np.exp(activation-activation.max())\n",
        "  return e / np.sum(e,axis=0)\n",
        "\n",
        "\"\"\"\n",
        "Forward Propogation;\n",
        "Calculating the output of each layer and propagating forward.\n",
        " The output of a layer will be the input to the next layer.\n",
        "\"\"\"\n",
        "def forward_propagation(network, row):\n",
        "  inputs =row\n",
        "  for layer in network:\n",
        "    new_inputs = []\n",
        "    for neuron in layer:\n",
        "      activation=activate(neuron[\"weights\"],inputs)\n",
        "      neuron[\"output\"]= activation_function(activation) #output of the neuron after activation\n",
        "      new_inputs.append(neuron[\"output\"]) \n",
        "    inputs = new_inputs #outputs will be the input to the next layer.\n",
        "  return inputs\n",
        "\n",
        "\"\"\"\n",
        "Calculating the derivative of the softmax activation function\n",
        "\"\"\"\n",
        "def derivative(output):\n",
        "  val = output.reshape((-1,1))\n",
        "  return np.diagflat(output) - np.dot(val, np.transpose(val))\n",
        "\n",
        "\"\"\"\n",
        "Back Propogation:\n",
        "Once the forward propogation is completed. We calculate the difference between the actual and the predicted values.\n",
        "In order to reduce the loss, we back propagate from the output layer to the input layer, updating the\n",
        "weights and biases. The error propogates backwards along with the weights from the output layer to the hidden layer\n",
        "neurons.\n",
        "\"\"\"\n",
        "def back_propagation(network, actual):\n",
        "  for i in reversed(range(len(network))):\n",
        "    layer = network[i]\n",
        "    errors = []\n",
        "    if i != len(network)-1:\n",
        "      for j in range(len(layer)):\n",
        "        error = 0.0\n",
        "        for neuron in network[i+1]:\n",
        "          error =error+ (neuron[\"weights\"][j] + neuron[\"delta\"]) #Delta: Error calculated for each neuron\n",
        "        errors.append(error)\n",
        "    else:\n",
        "      for j in range(len(layer)):\n",
        "        neuron = layer[j]\n",
        "        errors.append(neuron[\"output\"] - actual[j])\n",
        "    for j in range(len(layer)):\n",
        "      neuron = layer[j]\n",
        "      neuron['delta'] = errors[j] * derivative(neuron['output'])\n",
        "\n",
        "\"\"\"\n",
        "The weights are updates using the formula:  Wi(new) =Wi(old)  - alpha*Loss\n",
        "\"\"\"\n",
        "def weight_updation(network, row, learning_rate):\n",
        "  for i in range(len(network)):\n",
        "    inputs  = row[:-1]\n",
        "    if i!=0:\n",
        "      inputs = [neuron[\"output\"] for neuron in network[i-1]]\n",
        "    for neuron in network[i]:\n",
        "      for j in range(len(inputs)):\n",
        "        neuron[\"weights\"][j] -= learning_rate*neuron[\"delta\"]*inputs[j]\n",
        "      neuron[\"weights\"][-1] -= learning_rate * neuron[\"delta\"]\n",
        "\n",
        "\n",
        "\"\"\"\n",
        "Training the given dataset for a fixed number of epochs based on a learning rate\n",
        "and using the defined architecture.\n",
        "\"\"\"\n",
        "\n",
        "def training(network, train, learning_rate, n_epochs, n_outputs):\n",
        "  for epoch in range(n_epochs):\n",
        "    sum_error = 0\n",
        "    for row in train:\n",
        "      outputs = forward_propagation(network, row)\n",
        "      expected = [0 for i in range(n_outputs)]\n",
        "      expected[row[-1]]=1\n",
        "      sum_error += sum([(expected[i]-outputs[i])**2 for i in range(len(expected))])\n",
        "      back_propagation(network, expected)\n",
        "      weight_updation(network, row,learning_rate)\n",
        "    print(\"-->Epoch:\", epoch, \"-->Alpha:\", learning_rate, \"-->Error Sum:\", sum_error)\n",
        "    \n",
        "     \n"
      ],
      "metadata": {
        "id": "GLuw7v9xFBcO"
      },
      "execution_count": 11,
      "outputs": []
    },
    {
      "cell_type": "code",
      "source": [
        "n_input_neurons = 4 #Dataset has four features\n",
        "n_output_neurons = 2 #Binary output value\n",
        "network =model(n_input_neurons, 3, n_output_neurons) #3: Number of hidden layer neurons\n",
        "train = training(network,training_data, 0.05, 10, n_output_neurons )\n",
        "for layer in network:\n",
        "  print(\"\\n\",layer)"
      ],
      "metadata": {
        "colab": {
          "base_uri": "https://localhost:8080/"
        },
        "id": "xVRIOPd5Pz1w",
        "outputId": "187e0180-d1f5-44ce-ff76-f645c15d6f3b"
      },
      "execution_count": 12,
      "outputs": [
        {
          "output_type": "stream",
          "name": "stdout",
          "text": [
            "-->Epoch: 0 -->Alpha: 0.05 -->Error Sum: [[1098.]]\n",
            "-->Epoch: 1 -->Alpha: 0.05 -->Error Sum: [[1098.]]\n",
            "-->Epoch: 2 -->Alpha: 0.05 -->Error Sum: [[1098.]]\n",
            "-->Epoch: 3 -->Alpha: 0.05 -->Error Sum: [[1098.]]\n",
            "-->Epoch: 4 -->Alpha: 0.05 -->Error Sum: [[1098.]]\n",
            "-->Epoch: 5 -->Alpha: 0.05 -->Error Sum: [[1098.]]\n",
            "-->Epoch: 6 -->Alpha: 0.05 -->Error Sum: [[1098.]]\n",
            "-->Epoch: 7 -->Alpha: 0.05 -->Error Sum: [[1098.]]\n",
            "-->Epoch: 8 -->Alpha: 0.05 -->Error Sum: [[1098.]]\n",
            "-->Epoch: 9 -->Alpha: 0.05 -->Error Sum: [[1098.]]\n",
            "\n",
            " [{'weights': [array([[0.89325224]]), array([[0.00711141]]), array([[0.57705045]]), array([[0.67724837]]), array([[0.72156333]])], 'output': array([[1.]]), 'delta': array([[0.]])}, {'weights': [array([[0.12168445]]), array([[0.35442703]]), array([[0.96085067]]), array([[0.35528546]]), array([[0.67407736]])], 'output': array([[1.]]), 'delta': array([[0.]])}, {'weights': [array([[0.88702744]]), array([[0.53873579]]), array([[0.06564393]]), array([[0.46829042]]), array([[0.84875228]])], 'output': array([[1.]]), 'delta': array([[0.]])}]\n",
            "\n",
            " [{'weights': [array([[0.01433756]]), array([[0.22923161]]), array([[0.20989991]]), array([[0.24969275]])], 'output': array([[1.]]), 'delta': array([[0.]])}, {'weights': [array([[0.3225386]]), array([[0.67651523]]), array([[0.5306517]]), array([[0.89082956]])], 'output': array([[1.]]), 'delta': array([[0.]])}]\n"
          ]
        }
      ]
    },
    {
      "cell_type": "markdown",
      "source": [
        "## Testing the model"
      ],
      "metadata": {
        "id": "eFEfbCZCJ-bk"
      }
    },
    {
      "cell_type": "markdown",
      "source": [
        "Testing the model on the trained model with the test dataset. The weights are taken from the trained model."
      ],
      "metadata": {
        "id": "HYJOwbSfSqzC"
      }
    },
    {
      "cell_type": "code",
      "source": [
        "def activate(weights, inputs):\n",
        "\tactivation = weights[-1]\n",
        "\tfor i in range(len(weights)-1):\n",
        "\t\tactivation += weights[i] * inputs[i]\n",
        "\treturn activation\n",
        "\n",
        "# Transfer neuron activation\n",
        "def activation_function(activation):\n",
        "  e = np.exp(activation-activation.max())\n",
        "  return e / np.sum(e,axis=0)\n",
        "\n",
        "# Forward propagate input to a network output\n",
        "def forward_propagate(network, row):\n",
        "\tinputs = row\n",
        "\tfor layer in network:\n",
        "\t\tnew_inputs = []\n",
        "\t\tfor neuron in layer:\n",
        "\t\t\tactivation = activate(neuron['weights'], inputs)\n",
        "\t\t\tneuron['output'] =activation_function(activation)\n",
        "\t\t\tnew_inputs.append(neuron['output'])\n",
        "\t\tinputs = new_inputs\n",
        "\treturn inputs\n",
        "\n",
        "# Make a prediction with a network\n",
        "def predict(network, row):\n",
        "\toutputs = forward_propagate(network, row)\n",
        "\treturn outputs.index(max(outputs))\n",
        "\n",
        "dataset = testing_data\n",
        "# Test making predictions with the network\n",
        "network = [[ {'weights': [0.64540026, 0.71768588, 0.876073,0.42101001]}, {'weights': [0.40312267,0.74726241,0.23659416, 0.51287239   ]}],\n",
        "\t[{'weights': [0.87158497,0.65645274, 0.65498254 ]}, {'weights': [0.56295313, 0.52467943,0.72672429    ]}]]\n",
        "\n",
        "for row in dataset:\n",
        " prediction = predict(network, row)\n",
        "\n",
        " print(\"Actual:\" , row[-1], \"Predicted: \",prediction)\n",
        " "
      ],
      "metadata": {
        "id": "KBKidRQl9QDW",
        "colab": {
          "base_uri": "https://localhost:8080/"
        },
        "outputId": "a5b1f187-4382-4d1b-ee55-3e6648294564"
      },
      "execution_count": 13,
      "outputs": [
        {
          "output_type": "stream",
          "name": "stdout",
          "text": [
            "Actual: 0 Predicted:  0\n",
            "Actual: 0 Predicted:  0\n",
            "Actual: 0 Predicted:  0\n",
            "Actual: 0 Predicted:  0\n",
            "Actual: 0 Predicted:  0\n",
            "Actual: 0 Predicted:  0\n",
            "Actual: 0 Predicted:  0\n",
            "Actual: 0 Predicted:  0\n",
            "Actual: 0 Predicted:  0\n",
            "Actual: 0 Predicted:  0\n",
            "Actual: 0 Predicted:  0\n",
            "Actual: 0 Predicted:  0\n",
            "Actual: 0 Predicted:  0\n",
            "Actual: 0 Predicted:  0\n",
            "Actual: 0 Predicted:  0\n",
            "Actual: 0 Predicted:  0\n",
            "Actual: 0 Predicted:  0\n",
            "Actual: 0 Predicted:  0\n",
            "Actual: 0 Predicted:  0\n",
            "Actual: 0 Predicted:  0\n",
            "Actual: 0 Predicted:  0\n",
            "Actual: 0 Predicted:  0\n",
            "Actual: 0 Predicted:  0\n",
            "Actual: 0 Predicted:  0\n",
            "Actual: 0 Predicted:  0\n",
            "Actual: 0 Predicted:  0\n",
            "Actual: 0 Predicted:  0\n",
            "Actual: 0 Predicted:  0\n",
            "Actual: 0 Predicted:  0\n",
            "Actual: 0 Predicted:  0\n",
            "Actual: 0 Predicted:  0\n",
            "Actual: 0 Predicted:  0\n",
            "Actual: 0 Predicted:  0\n",
            "Actual: 0 Predicted:  0\n",
            "Actual: 0 Predicted:  0\n",
            "Actual: 0 Predicted:  0\n",
            "Actual: 0 Predicted:  0\n",
            "Actual: 0 Predicted:  0\n",
            "Actual: 0 Predicted:  0\n",
            "Actual: 0 Predicted:  0\n",
            "Actual: 0 Predicted:  0\n",
            "Actual: 0 Predicted:  0\n",
            "Actual: 0 Predicted:  0\n",
            "Actual: 0 Predicted:  0\n",
            "Actual: 0 Predicted:  0\n",
            "Actual: 0 Predicted:  0\n",
            "Actual: 0 Predicted:  0\n",
            "Actual: 0 Predicted:  0\n",
            "Actual: 0 Predicted:  0\n",
            "Actual: 0 Predicted:  0\n",
            "Actual: 0 Predicted:  0\n",
            "Actual: 0 Predicted:  0\n",
            "Actual: 0 Predicted:  0\n",
            "Actual: 0 Predicted:  0\n",
            "Actual: 0 Predicted:  0\n",
            "Actual: 0 Predicted:  0\n",
            "Actual: 0 Predicted:  0\n",
            "Actual: 0 Predicted:  0\n",
            "Actual: 0 Predicted:  0\n",
            "Actual: 0 Predicted:  0\n",
            "Actual: 0 Predicted:  0\n",
            "Actual: 0 Predicted:  0\n",
            "Actual: 0 Predicted:  0\n",
            "Actual: 0 Predicted:  0\n",
            "Actual: 0 Predicted:  0\n",
            "Actual: 0 Predicted:  0\n",
            "Actual: 0 Predicted:  0\n",
            "Actual: 0 Predicted:  0\n",
            "Actual: 0 Predicted:  0\n",
            "Actual: 0 Predicted:  0\n",
            "Actual: 0 Predicted:  0\n",
            "Actual: 0 Predicted:  0\n",
            "Actual: 0 Predicted:  0\n",
            "Actual: 0 Predicted:  0\n",
            "Actual: 0 Predicted:  0\n",
            "Actual: 0 Predicted:  0\n",
            "Actual: 0 Predicted:  0\n",
            "Actual: 0 Predicted:  0\n",
            "Actual: 0 Predicted:  0\n",
            "Actual: 0 Predicted:  0\n",
            "Actual: 0 Predicted:  0\n",
            "Actual: 0 Predicted:  0\n",
            "Actual: 0 Predicted:  0\n",
            "Actual: 0 Predicted:  0\n",
            "Actual: 0 Predicted:  0\n",
            "Actual: 0 Predicted:  0\n",
            "Actual: 0 Predicted:  0\n",
            "Actual: 0 Predicted:  0\n",
            "Actual: 0 Predicted:  0\n",
            "Actual: 0 Predicted:  0\n",
            "Actual: 0 Predicted:  0\n",
            "Actual: 0 Predicted:  0\n",
            "Actual: 0 Predicted:  0\n",
            "Actual: 0 Predicted:  0\n",
            "Actual: 0 Predicted:  0\n",
            "Actual: 0 Predicted:  0\n",
            "Actual: 0 Predicted:  0\n",
            "Actual: 0 Predicted:  0\n",
            "Actual: 0 Predicted:  0\n",
            "Actual: 0 Predicted:  0\n",
            "Actual: 0 Predicted:  0\n",
            "Actual: 0 Predicted:  0\n",
            "Actual: 0 Predicted:  0\n",
            "Actual: 0 Predicted:  0\n",
            "Actual: 0 Predicted:  0\n",
            "Actual: 0 Predicted:  0\n",
            "Actual: 0 Predicted:  0\n",
            "Actual: 0 Predicted:  0\n",
            "Actual: 0 Predicted:  0\n",
            "Actual: 0 Predicted:  0\n",
            "Actual: 0 Predicted:  0\n",
            "Actual: 0 Predicted:  0\n",
            "Actual: 0 Predicted:  0\n",
            "Actual: 0 Predicted:  0\n",
            "Actual: 0 Predicted:  0\n",
            "Actual: 0 Predicted:  0\n",
            "Actual: 0 Predicted:  0\n",
            "Actual: 0 Predicted:  0\n",
            "Actual: 0 Predicted:  0\n",
            "Actual: 0 Predicted:  0\n",
            "Actual: 0 Predicted:  0\n",
            "Actual: 0 Predicted:  0\n",
            "Actual: 0 Predicted:  0\n",
            "Actual: 0 Predicted:  0\n",
            "Actual: 0 Predicted:  0\n",
            "Actual: 0 Predicted:  0\n",
            "Actual: 0 Predicted:  0\n",
            "Actual: 0 Predicted:  0\n",
            "Actual: 0 Predicted:  0\n",
            "Actual: 0 Predicted:  0\n",
            "Actual: 0 Predicted:  0\n",
            "Actual: 0 Predicted:  0\n",
            "Actual: 0 Predicted:  0\n",
            "Actual: 0 Predicted:  0\n",
            "Actual: 0 Predicted:  0\n",
            "Actual: 0 Predicted:  0\n",
            "Actual: 0 Predicted:  0\n",
            "Actual: 0 Predicted:  0\n",
            "Actual: 0 Predicted:  0\n",
            "Actual: 0 Predicted:  0\n",
            "Actual: 0 Predicted:  0\n",
            "Actual: 0 Predicted:  0\n",
            "Actual: 0 Predicted:  0\n",
            "Actual: 0 Predicted:  0\n",
            "Actual: 0 Predicted:  0\n",
            "Actual: 0 Predicted:  0\n",
            "Actual: 0 Predicted:  0\n",
            "Actual: 0 Predicted:  0\n",
            "Actual: 0 Predicted:  0\n",
            "Actual: 0 Predicted:  0\n",
            "Actual: 0 Predicted:  0\n",
            "Actual: 0 Predicted:  0\n",
            "Actual: 0 Predicted:  0\n",
            "Actual: 0 Predicted:  0\n",
            "Actual: 0 Predicted:  0\n",
            "Actual: 0 Predicted:  0\n",
            "Actual: 0 Predicted:  0\n",
            "Actual: 1 Predicted:  0\n",
            "Actual: 1 Predicted:  0\n",
            "Actual: 1 Predicted:  0\n",
            "Actual: 1 Predicted:  0\n",
            "Actual: 1 Predicted:  0\n",
            "Actual: 1 Predicted:  0\n",
            "Actual: 1 Predicted:  0\n",
            "Actual: 1 Predicted:  0\n",
            "Actual: 1 Predicted:  0\n",
            "Actual: 1 Predicted:  0\n",
            "Actual: 1 Predicted:  0\n",
            "Actual: 1 Predicted:  0\n",
            "Actual: 1 Predicted:  0\n",
            "Actual: 1 Predicted:  0\n",
            "Actual: 1 Predicted:  0\n",
            "Actual: 1 Predicted:  0\n",
            "Actual: 1 Predicted:  0\n",
            "Actual: 1 Predicted:  0\n",
            "Actual: 1 Predicted:  0\n",
            "Actual: 1 Predicted:  0\n",
            "Actual: 1 Predicted:  0\n",
            "Actual: 1 Predicted:  0\n",
            "Actual: 1 Predicted:  0\n",
            "Actual: 1 Predicted:  0\n",
            "Actual: 1 Predicted:  0\n",
            "Actual: 1 Predicted:  0\n",
            "Actual: 1 Predicted:  0\n",
            "Actual: 1 Predicted:  0\n",
            "Actual: 1 Predicted:  0\n",
            "Actual: 1 Predicted:  0\n",
            "Actual: 1 Predicted:  0\n",
            "Actual: 1 Predicted:  0\n",
            "Actual: 1 Predicted:  0\n",
            "Actual: 1 Predicted:  0\n",
            "Actual: 1 Predicted:  0\n",
            "Actual: 1 Predicted:  0\n",
            "Actual: 1 Predicted:  0\n",
            "Actual: 1 Predicted:  0\n",
            "Actual: 1 Predicted:  0\n",
            "Actual: 1 Predicted:  0\n",
            "Actual: 1 Predicted:  0\n",
            "Actual: 1 Predicted:  0\n",
            "Actual: 1 Predicted:  0\n",
            "Actual: 1 Predicted:  0\n",
            "Actual: 1 Predicted:  0\n",
            "Actual: 1 Predicted:  0\n",
            "Actual: 1 Predicted:  0\n",
            "Actual: 1 Predicted:  0\n",
            "Actual: 1 Predicted:  0\n",
            "Actual: 1 Predicted:  0\n",
            "Actual: 1 Predicted:  0\n",
            "Actual: 1 Predicted:  0\n",
            "Actual: 1 Predicted:  0\n",
            "Actual: 1 Predicted:  0\n",
            "Actual: 1 Predicted:  0\n",
            "Actual: 1 Predicted:  0\n",
            "Actual: 1 Predicted:  0\n",
            "Actual: 1 Predicted:  0\n",
            "Actual: 1 Predicted:  0\n",
            "Actual: 1 Predicted:  0\n",
            "Actual: 1 Predicted:  0\n",
            "Actual: 1 Predicted:  0\n",
            "Actual: 1 Predicted:  0\n",
            "Actual: 1 Predicted:  0\n",
            "Actual: 1 Predicted:  0\n",
            "Actual: 1 Predicted:  0\n",
            "Actual: 1 Predicted:  0\n",
            "Actual: 1 Predicted:  0\n",
            "Actual: 1 Predicted:  0\n",
            "Actual: 1 Predicted:  0\n",
            "Actual: 1 Predicted:  0\n",
            "Actual: 1 Predicted:  0\n",
            "Actual: 1 Predicted:  0\n",
            "Actual: 1 Predicted:  0\n",
            "Actual: 1 Predicted:  0\n",
            "Actual: 1 Predicted:  0\n",
            "Actual: 1 Predicted:  0\n",
            "Actual: 1 Predicted:  0\n",
            "Actual: 1 Predicted:  0\n",
            "Actual: 1 Predicted:  0\n",
            "Actual: 1 Predicted:  0\n",
            "Actual: 1 Predicted:  0\n",
            "Actual: 1 Predicted:  0\n",
            "Actual: 1 Predicted:  0\n",
            "Actual: 1 Predicted:  0\n",
            "Actual: 1 Predicted:  0\n",
            "Actual: 1 Predicted:  0\n",
            "Actual: 1 Predicted:  0\n",
            "Actual: 1 Predicted:  0\n",
            "Actual: 1 Predicted:  0\n",
            "Actual: 1 Predicted:  0\n",
            "Actual: 1 Predicted:  0\n",
            "Actual: 1 Predicted:  0\n",
            "Actual: 1 Predicted:  0\n",
            "Actual: 1 Predicted:  0\n",
            "Actual: 1 Predicted:  0\n",
            "Actual: 1 Predicted:  0\n",
            "Actual: 1 Predicted:  0\n",
            "Actual: 1 Predicted:  0\n",
            "Actual: 1 Predicted:  0\n",
            "Actual: 1 Predicted:  0\n",
            "Actual: 1 Predicted:  0\n",
            "Actual: 1 Predicted:  0\n",
            "Actual: 1 Predicted:  0\n",
            "Actual: 1 Predicted:  0\n",
            "Actual: 1 Predicted:  0\n",
            "Actual: 1 Predicted:  0\n",
            "Actual: 1 Predicted:  0\n",
            "Actual: 1 Predicted:  0\n",
            "Actual: 1 Predicted:  0\n",
            "Actual: 1 Predicted:  0\n",
            "Actual: 1 Predicted:  0\n",
            "Actual: 1 Predicted:  0\n",
            "Actual: 1 Predicted:  0\n",
            "Actual: 1 Predicted:  0\n",
            "Actual: 1 Predicted:  0\n",
            "Actual: 1 Predicted:  0\n"
          ]
        }
      ]
    },
    {
      "cell_type": "code",
      "source": [],
      "metadata": {
        "id": "W43QKe_TwKPO"
      },
      "execution_count": null,
      "outputs": []
    }
  ]
}